{
 "cells": [
  {
   "cell_type": "code",
   "execution_count": 1,
   "metadata": {},
   "outputs": [],
   "source": [
    "import os\n",
    "import discord\n",
    "from discord.utils import get\n",
    "from dotenv import load_dotenv\n",
    "from Modules.CodeRunner.coderunner import CodeRunner\n",
    "from Modules.QuizColab.quizcolab import QuizColab\n",
    "from Modules.Replier.replier import Replier\n",
    "from Modules.Reddit.reddit import Reddit\n",
    "from Utils.dice import Dice\n",
    "from Modules.Snipe.snipe import Snipe"
   ]
  },
  {
   "cell_type": "code",
   "execution_count": 2,
   "metadata": {},
   "outputs": [
    {
     "name": "stdout",
     "output_type": "stream",
     "text": [
      "<Response [200]>\n",
      "got subreddit HolUp\n",
      "https://v.redd.it/0z1eq1kmx1p81\n",
      "https://i.redd.it/ncr8gkkx5zo81.jpg\n",
      "https://i.redd.it/0cy0uc49u1p81.jpg\n",
      "https://v.redd.it/rx41mt74fto81\n",
      "https://v.redd.it/3e6qgn0ws2p81\n"
     ]
    }
   ],
   "source": [
    "reddit = Reddit()\n",
    "sub = reddit.get_name_subreddit(\"holup\")\n",
    "for _ in range(5):\n",
    "    print(reddit.get_random_meme_from_subreddit(sub))"
   ]
  },
  {
   "cell_type": "code",
   "execution_count": null,
   "metadata": {},
   "outputs": [],
   "source": []
  }
 ],
 "metadata": {
  "interpreter": {
   "hash": "bcef3a81eab1d435d7462b1acd46cfa2332124fff833ffbff8e6d4e2296a1300"
  },
  "kernelspec": {
   "display_name": "Python 3.8.5 ('base')",
   "language": "python",
   "name": "python3"
  },
  "language_info": {
   "codemirror_mode": {
    "name": "ipython",
    "version": 3
   },
   "file_extension": ".py",
   "mimetype": "text/x-python",
   "name": "python",
   "nbconvert_exporter": "python",
   "pygments_lexer": "ipython3",
   "version": "3.8.5"
  },
  "orig_nbformat": 4
 },
 "nbformat": 4,
 "nbformat_minor": 2
}
